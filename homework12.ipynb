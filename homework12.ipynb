{
 "cells": [
  {
   "cell_type": "code",
   "execution_count": 1,
   "metadata": {},
   "outputs": [
    {
     "name": "stdout",
     "output_type": "stream",
     "text": [
      "1 5 12 22 35 51 70 92 117 145\n",
      "176 210 247 287 330 376 425 477 532 590\n",
      "651 715 782 852 925 1001 1080 1162 1247 1335\n",
      "1426 1520 1617 1717 1820 1926 2035 2147 2262 2380\n",
      "2501 2625 2752 2882 3015 3151 3290 3432 3577 3725\n",
      "3876 4030 4187 4347 4510 4676 4845 5017 5192 5370\n",
      "5551 5735 5922 6112 6305 6501 6700 6902 7107 7315\n",
      "7526 7740 7957 8177 8400 8626 8855 9087 9322 9560\n",
      "9801 10045 10292 10542 10795 11051 11310 11572 11837 12105\n",
      "12376 12650 12927 13207 13490 13776 14065 14357 14652 14950\n"
     ]
    }
   ],
   "source": [
    " \"\"\"第一题 编写一个测试程序使用n(3n-1)/2显示前100个五角数，每行显示十个。\"\"\"\n",
    "def getPentagonalNumber(n):\n",
    "    c = int(n * (3* n -1) / 2)\n",
    "    if n%10 !=0:\n",
    "        print(c,end=' ')\n",
    "    else:\n",
    "        print(c)\n",
    "for i in range(1,101):\n",
    "    getPentagonalNumber(i)"
   ]
  },
  {
   "cell_type": "code",
   "execution_count": 2,
   "metadata": {},
   "outputs": [
    {
     "name": "stdout",
     "output_type": "stream",
     "text": [
      "输入一个数：2\n"
     ]
    },
    {
     "data": {
      "text/plain": [
       "2"
      ]
     },
     "execution_count": 2,
     "metadata": {},
     "output_type": "execute_result"
    }
   ],
   "source": [
    "\"\"\"第二题 编写一个函数，计算一个整数各个数字的和。\"\"\"\n",
    "def sumDigits(n):\n",
    "    g=n%10\n",
    "    s=n//10%10\n",
    "    b=n//100\n",
    "    sum=g+s+b\n",
    "    return sum\n",
    "n=int(input('输入一个数：'))\n",
    "sumDigits(n)"
   ]
  },
  {
   "cell_type": "code",
   "execution_count": 3,
   "metadata": {},
   "outputs": [
    {
     "name": "stdout",
     "output_type": "stream",
     "text": [
      "[1, 2, 3]\n"
     ]
    }
   ],
   "source": [
    "\"\"\"第三题 对三个数排序\"\"\"\n",
    "def displaysortNumbers(num1,num2,num3):\n",
    "    res = [num1,num2,num3]\n",
    "    res.sort()       #排序，默认升序\n",
    "    print(res)\n",
    "displaysortNumbers(3,1,2)"
   ]
  },
  {
   "cell_type": "code",
   "execution_count": 4,
   "metadata": {},
   "outputs": [
    {
     "name": "stdout",
     "output_type": "stream",
     "text": [
      "本金是：10000\n",
      "年利率是：10\n",
      "每年的计息周期数是：6\n",
      "存款年限：10\n",
      "1   3595939.64\n",
      "2   1293078191.86\n",
      "3   464983113205.51\n",
      "4   167205121026261.62\n",
      "5   60125952326897608.00\n",
      "6   21620929556628611072.00\n",
      "7   7774755771869484285952.00\n",
      "8   2795755249740679762411520.00\n",
      "9   1005336713563815189808152576.00\n",
      "10   361513014321636390553333530624.00\n"
     ]
    }
   ],
   "source": [
    "\"\"\"第四题\"\"\"\n",
    "def future_value(present_value,annual_rate,periods_per_year,years):\n",
    "    for i in range(1,years+1):\n",
    "        rate_per_period = annual_rate / periods_per_year\n",
    "        periods = periods_per_year * i\n",
    "        print('%d   %.2f'% (i,present_value*((1+rate_per_period)**periods))) \n",
    "present_value=int(input('本金是：'))\n",
    "annual_rate=float(input('年利率是：'))\n",
    "periods_per_year=int(input('每年的计息周期数是：'))\n",
    "years=int(input('存款年限：'))\n",
    "future_value(present_value,annual_rate,periods_per_year,years)"
   ]
  },
  {
   "cell_type": "code",
   "execution_count": 17,
   "metadata": {},
   "outputs": [
    {
     "name": "stdout",
     "output_type": "stream",
     "text": [
      "请输入第一字符：i\n",
      "请输入第二字符：g\n",
      "请输入每行打印的个数：10\n"
     ]
    }
   ],
   "source": [
    "\"\"\"第五题\"\"\"\n",
    "def printchars(ch1,ch2,n):\n",
    "    count=0\n",
    "    for i in range(ord(ch1),ord(ch2)+1):\n",
    "        print(chr(i),end=\" \")\n",
    "        count += 1\n",
    "        if count % n == 0:\n",
    "            print()\n",
    "ch1=input('请输入第一字符：')\n",
    "ch2=input('请输入第二字符：')\n",
    "n=int(input('请输入每行打印的个数：'))\n",
    "printchars(ch1,ch2,n)"
   ]
  },
  {
   "cell_type": "code",
   "execution_count": 16,
   "metadata": {},
   "outputs": [
    {
     "name": "stdout",
     "output_type": "stream",
     "text": [
      "2010年有365天\n",
      "2011年有365天\n",
      "2012年有366天\n",
      "2013年有365天\n",
      "2014年有365天\n",
      "2015年有365天\n",
      "2016年有366天\n",
      "2017年有365天\n",
      "2018年有365天\n",
      "2019年有365天\n",
      "2020年有366天\n"
     ]
    }
   ],
   "source": [
    "\"\"\"第六题\"\"\"\n",
    "def numberOfDayInYear():\n",
    "    c=31+28+31+30+31+30+31+31+30+31+30+31\n",
    "    for year in range(2010,2021,1): \n",
    "        i=year\n",
    "        if year % 4 == 0 and  year % 100 != 0 or year % 400 == 0:\n",
    "            print('%d年有%d天'%(i,c+1)) \n",
    "        else:\n",
    "            print ('%d年有%d天'%(i,c))  \n",
    "numberOfDayInYear()"
   ]
  },
  {
   "cell_type": "code",
   "execution_count": 15,
   "metadata": {},
   "outputs": [
    {
     "name": "stdout",
     "output_type": "stream",
     "text": [
      "请输入坐标:2 3 4 5\n"
     ]
    },
    {
     "data": {
      "text/plain": [
       "2.8284271247461903"
      ]
     },
     "execution_count": 15,
     "metadata": {},
     "output_type": "execute_result"
    }
   ],
   "source": [
    "\"\"\"第七题\"\"\"\n",
    "import math\n",
    "def distance(x1,y1,x2,y2):\n",
    "    a=x2-x1\n",
    "    b=y2-y1\n",
    "    c=math.sqrt((a**2)+(b**2))\n",
    "    return c\n",
    "x1,y1,x2,y2 = map(int,input(\"请输入坐标:\").split())\n",
    "distance(x1,y1,x2,y2)"
   ]
  },
  {
   "cell_type": "code",
   "execution_count": 2,
   "metadata": {},
   "outputs": [
    {
     "name": "stdout",
     "output_type": "stream",
     "text": [
      "p      2^p-1\n",
      "2         3\n",
      "3         7\n",
      "5         31\n"
     ]
    }
   ],
   "source": [
    "\"\"\"第八题\"\"\"\n",
    "import math\n",
    "def prime():\n",
    "    num=[]\n",
    "    i=2\n",
    "    for i in range(2,32):\n",
    "        j=2\n",
    "        for j in range(2,i):\n",
    "            if(i%j==0):\n",
    "                break\n",
    "        else:\n",
    "            num.append(i)\n",
    "    return num\n",
    "def zhang():\n",
    "    print('p      2^p-1')\n",
    "    a=prime()\n",
    "    for p in range(1,32):\n",
    "        for i in range(11):\n",
    "            if (2**p)-1==a[i]:\n",
    "                print(\"%d         %d\" %(p,a[i]))\n",
    "zhang()"
   ]
  },
  {
   "cell_type": "code",
   "execution_count": 1,
   "metadata": {},
   "outputs": [
    {
     "name": "stdout",
     "output_type": "stream",
     "text": [
      "本地时间为 : Sat Aug 10 21:33:20 2019\n"
     ]
    }
   ],
   "source": [
    "\"\"\"第九题\"\"\"\n",
    "import time\n",
    "localtime = time.asctime(time.localtime(time.time()))\n",
    "print(\"本地时间为 :\", localtime)"
   ]
  },
  {
   "cell_type": "code",
   "execution_count": 14,
   "metadata": {},
   "outputs": [
    {
     "name": "stdout",
     "output_type": "stream",
     "text": [
      "6 + 6 = 12\n",
      "输了\n"
     ]
    }
   ],
   "source": [
    "\"\"\"第十题\"\"\"\n",
    "import random\n",
    "def dice():\n",
    "      a=random.choice([1,2,3,4,5,6])\n",
    "      b=random.choice([1,2,3,4,5,6])\n",
    "      if a+b==2 or  a+b==3 or a+b==12:\n",
    "            print('%d + %d = %d' %(a,b,a+b))\n",
    "            print('输了')\n",
    "      elif a+b==7 or a+b==11:\n",
    "            print('%d + %d = %d' %(a,b,a+b))\n",
    "            print('赢了')\n",
    "      else:\n",
    "            print('%d + %d = %d' %(a,b,a+b))\n",
    "            c=random.choice([1,2,3,4,5,6])\n",
    "            d=random.choice([1,2,3,4,5,6])\n",
    "            if c+d==7:\n",
    "                  print('%d + %d = %d' %(c,d,c+d))\n",
    "                  print('输了')\n",
    "            elif c+d==a+b:\n",
    "                  print('%d + %d = %d' %(c,d,c+d))\n",
    "                  print('赢了')\n",
    "dice()"
   ]
  },
  {
   "cell_type": "code",
   "execution_count": 13,
   "metadata": {},
   "outputs": [
    {
     "name": "stdout",
     "output_type": "stream",
     "text": [
      "人机\n",
      "输入\n",
      "\n",
      "请选择人物 典韦 赵云 鲁班\n",
      ">>鲁班\n",
      "鲁班\n",
      "鲁班 战力:888 防御:999\n",
      "赵云\n",
      "是否进入游戏 是 否\n",
      ">>是\n",
      "是\n",
      "游戏开始\n",
      "正在加载\n"
     ]
    }
   ],
   "source": [
    "\"\"\"王者荣耀游戏\"\"\"\n",
    "class wangzhe(object):\n",
    "    def __init__(self,a):\n",
    "        self.a=a\n",
    "    def xz(self):\n",
    "        if self.a==1:\n",
    "            print(\"人机\")\n",
    "        elif self.a==2:\n",
    "            print(\"多人对战\")\n",
    "        else:\n",
    "            print(\"对战\")\n",
    "    def shuru(self):\n",
    "        res=input(\"输入\")\n",
    "        print(res)\n",
    "    def select(self):\n",
    "        print(\"请选择人物\",\"典韦\",\"赵云\",\"鲁班\")\n",
    "        res=input(\">>\")\n",
    "        print(res)\n",
    "    def shuxing(self):\n",
    "        if self.a == \"典韦\":\n",
    "            print(\"典韦\",\"战力:1200\",\"防御:1209\")\n",
    "        elif self.a == \"赵云\":\n",
    "            print(\"赵云\",\"战力:1400\",\"防御:1090\")\n",
    "        else:\n",
    "            print(\"鲁班\",\"战力:888\",\"防御:999\")\n",
    "    def suiji(self):\n",
    "        import numpy as np\n",
    "        res=np.random.choice([\"典韦\",\"赵云\",\"鲁班\"])\n",
    "        print(res)\n",
    "    def duizhan(self):\n",
    "        print(\"是否进入游戏\",\"是\",\"否\")\n",
    "        self.a=input(\">>\")\n",
    "        print(self.a)\n",
    "        if self.a==\"是\":\n",
    "            print(\"游戏开始\")\n",
    "        elif self.a==\"否\":\n",
    "            print(\"游戏结束\")\n",
    "    def sure(self):\n",
    "        print(\"正在加载\")\n",
    "rong=wangzhe(1)\n",
    "rong.xz()\n",
    "rong.shuru()\n",
    "rong.select()\n",
    "rong.shuxing()\n",
    "rong.suiji()\n",
    "rong.duizhan()\n",
    "rong.sure()"
   ]
  },
  {
   "cell_type": "markdown",
   "metadata": {},
   "source": [
    "# 第二次作业"
   ]
  },
  {
   "cell_type": "code",
   "execution_count": 12,
   "metadata": {},
   "outputs": [
    {
     "name": "stdout",
     "output_type": "stream",
     "text": [
      "请输入宽：4\n",
      "请输入高：40\n",
      "宽是：4.00,高是：40.00\n",
      "面积是：160.0000\n",
      "周长是：88.0000\n"
     ]
    }
   ],
   "source": [
    "# 第一题 矩形\n",
    "import math\n",
    "class juxing(object):\n",
    "    def __init__(self,width,height):\n",
    "        self.width=width\n",
    "        self.height=height\n",
    "        print('宽是：%.2f,高是：%.2f'% (width,height))\n",
    "    def getArea(self):\n",
    "        return self.width*self.height\n",
    "    def getPerimeter(self):\n",
    "        return 2*(self.width+self.height)\n",
    "if __name__ == \"__main__\":\n",
    "    width=float(input('请输入宽：'))\n",
    "    height=float(input('请输入高：'))\n",
    "    r=juxing(width,height)\n",
    "    print('面积是：%.4f'% r.getArea())\n",
    "    print('周长是：%.4f'% r.getPerimeter())"
   ]
  },
  {
   "cell_type": "code",
   "execution_count": 11,
   "metadata": {},
   "outputs": [
    {
     "name": "stdout",
     "output_type": "stream",
     "text": [
      "请输入您的id：1122\n",
      "请输入本金：20000\n",
      "请输入年利率：4.5\n",
      "id是1122：\n",
      "金额是20000\n",
      "月利率是0.0037:\n",
      "月利息是75.0000:\n"
     ]
    }
   ],
   "source": [
    "# 第二题 account对象\n",
    "class Account(object):\n",
    "    def __init__(self,id,balance,an):\n",
    "        self.__id=id\n",
    "        self.__balance=float(balance)\n",
    "        self.__an=float(an)\n",
    "    def getMonthlyInterestRate(self):\n",
    "        self.f=float(self.__an/1200)\n",
    "        print(\"月利率是%.4f:\"% self.f)\n",
    "    def getMonthlyInterest(self):\n",
    "        s=float(self.f*self.__balance)\n",
    "        print(\"月利息是%.4f:\"% s)      \n",
    "    def withdraw(self,quchu):\n",
    "        self.quchu=quchu\n",
    "        a=float(self.__balance*self.__an/1200)-quchu\n",
    "        print(a)\n",
    "    def deposit(self,cunqian):\n",
    "        self.cunqian=cunqian\n",
    "        b=float(elf.__balance*self.__an/1200)-cunqian\n",
    "        print(b)        \n",
    "if __name__ == \"__main__\":\n",
    "    id=int(input('请输入您的id：'))\n",
    "    balance=float(input('请输入本金：'))\n",
    "    an=float(input('请输入年利率：'))\n",
    "    a=Account(id,balance,an)\n",
    "    print('id是%d：'% a._Account__id)\n",
    "    print('金额是%d'% a._Account__balance)\n",
    "    a.getMonthlyInterestRate()\n",
    "    a.getMonthlyInterest()"
   ]
  },
  {
   "cell_type": "code",
   "execution_count": 10,
   "metadata": {},
   "outputs": [
    {
     "name": "stdout",
     "output_type": "stream",
     "text": [
      "选择速度：1\n",
      "on or offon\n",
      "半径是：5\n",
      "颜色是：red\n",
      "SLOW\n",
      "关闭\n",
      "5.0\n",
      "red\n"
     ]
    }
   ],
   "source": [
    "# 第三题 风扇\n",
    "class Fan(object):\n",
    "    def __init__(self,speed=1,on=False,r=5,color='red'):\n",
    "        self.SLOW=1\n",
    "        self.MEDIUM=2\n",
    "        self.FAST=3\n",
    "        self.__speed=int(speed)\n",
    "        self.__on=bool(on)\n",
    "        self.__r=float(r)\n",
    "        self.__color=str(color)       \n",
    "    def prints(self):\n",
    "        if self.__speed==1:\n",
    "            print('SLOW')\n",
    "        elif self.__speed==2:\n",
    "            print('MEDIUM')\n",
    "        elif self.__speed==3:\n",
    "            print('FAST')\n",
    "        if self.__on=='on':\n",
    "            print('打开')\n",
    "        else:\n",
    "            print('关闭')       \n",
    "        print(self.__r)\n",
    "        print(self.__color)\n",
    "if __name__ == \"__main__\":\n",
    "    speed=int(input('选择速度：'))\n",
    "    on=bool(input('on or off'))\n",
    "    r=float(input('半径是：'))\n",
    "    color=str(input('颜色是：'))\n",
    "    fan=Fan(speed,on,r,color)\n",
    "    fan.prints()"
   ]
  },
  {
   "cell_type": "code",
   "execution_count": 9,
   "metadata": {},
   "outputs": [
    {
     "name": "stdout",
     "output_type": "stream",
     "text": [
      "请输入边数：3\n",
      "请输入边长：3\n",
      "请输入x轴坐标：0\n",
      "请输入y轴坐标：0\n",
      "周长是:9.0000\n",
      "面积11.6913\n"
     ]
    }
   ],
   "source": [
    "# 第四题\n",
    "class RegularPolygon(object):\n",
    "    def __init__(self,n=3,side=1,x=0,y=0):\n",
    "        self.__n=int(n)\n",
    "        self.__side=float(side)\n",
    "        self.__x=float(x)\n",
    "        self.__y=float(y)\n",
    "    def getPerimetetr(self):\n",
    "        print('周长是:%.4f'% (self.__n*self.__side )) \n",
    "    def getArea(self):\n",
    "        import math\n",
    "        self.s=self.__n*(self.__side**2)/4*math.tan(math.pi/self.__n)\n",
    "        print('面积%.4f'% self.s)\n",
    "if __name__ == \"__main__\":\n",
    "    n=int(input('请输入边数：'))\n",
    "    side=float(input('请输入边长：'))\n",
    "    x=float(input('请输入x轴坐标：'))\n",
    "    y=float(input('请输入y轴坐标：'))\n",
    "    r=RegularPolygon(n,side,x,y)\n",
    "    r.getPerimetetr()\n",
    "    r.getArea()"
   ]
  },
  {
   "cell_type": "code",
   "execution_count": 5,
   "metadata": {},
   "outputs": [
    {
     "name": "stdout",
     "output_type": "stream",
     "text": [
      "a的值是：2\n",
      "b的值是：3\n",
      "c的值是：4\n",
      "d的值是：5\n",
      "e的值是：6\n",
      "f的值是：7\n",
      "X的值为：40.50\n",
      "Y的值为：26.00\n"
     ]
    }
   ],
   "source": [
    "# 第五题\n",
    "class RegularPolygon(object):\n",
    "    def __init__(self,a,b,c,d,e,f):\n",
    "        self.__a=a\n",
    "        self.__b=b\n",
    "        self.__c=c  \n",
    "        self.__d=d\n",
    "        self.__e=e\n",
    "        self.__f=f\n",
    "    def isSolvable(self):\n",
    "        if (self.__a*self.__d)-(self.__c*self.__b)!=0:\n",
    "            return True\n",
    "        else:\n",
    "            return print('此方程无解')\n",
    "    def getX(self):\n",
    "        s=(self.__a*self.__d)-(self.__b*self.__c)\n",
    "        x=(self.__e*self.__d)-(self.__b*self.__f)/s\n",
    "        print('X的值为：%.2f'% x)\n",
    "    def getY(self):\n",
    "        s=(self.__a*self.__d)-(self.__b*self.__c)\n",
    "        y=(self.__a*self.__f)-(self.__e*self.__c)/s\n",
    "        print('Y的值为：%.2f'% y)\n",
    "if __name__==\"__main__\":\n",
    "    a=int(input('a的值是：'))\n",
    "    b=int(input('b的值是：'))\n",
    "    c=int(input('c的值是：'))\n",
    "    d=int(input('d的值是：'))\n",
    "    e=int(input('e的值是：'))\n",
    "    f=int(input('f的值是：'))\n",
    "    l=RegularPolygon(a,b,c,d,e,f)\n",
    "    l.isSolvable()\n",
    "    l.getX()\n",
    "    l.getY()\n"
   ]
  },
  {
   "cell_type": "code",
   "execution_count": 4,
   "metadata": {},
   "outputs": [
    {
     "name": "stdout",
     "output_type": "stream",
     "text": [
      "2 2 0 0\n",
      "0 2 2 0\n",
      "1.0 1.0\n"
     ]
    }
   ],
   "source": [
    "# 第六题\n",
    "class zuobiao:\n",
    "    def jiao(self):\n",
    "        import math      \n",
    "        x1,y1,x2,y2=map(float,input().split())\n",
    "        x3,y3,x4,y4=map(float,input().split())\n",
    "        u1=(x4-x3)*(y1-y3)-(x1-x3)*(y4-y3)\n",
    "        v1=(x4-x3)*(y2-y3)-(x2-x3)*(y4-y3)\n",
    "        u=math.fabs(u1)\n",
    "        v=math.fabs(v1)\n",
    "\n",
    "        x5=(x1*v+x2*u)/(u+v)\n",
    "        y5=(y1*v+y2*u)/(u+v)\n",
    "        print(x5,y5) \n",
    "re=zuobiao()\n",
    "re.jiao()"
   ]
  },
  {
   "cell_type": "code",
   "execution_count": 2,
   "metadata": {},
   "outputs": [
    {
     "name": "stdout",
     "output_type": "stream",
     "text": [
      "a的值是：2\n",
      "b的值是：3\n",
      "c的值是：4\n",
      "d的值是：5\n",
      "e的值是：6\n",
      "f的值是：7\n",
      "X的值为：40.50\n",
      "Y的值为：26.00\n"
     ]
    }
   ],
   "source": [
    "# 第七题\n",
    "class LinearEquation(object):   \n",
    "    def __init__(self,a,b,c,d,e,f):\n",
    "        self.__a=a\n",
    "        self.__b=b\n",
    "        self.__c=c\n",
    "        self.__d=d\n",
    "        self.__e=e\n",
    "        self.__f=f           \n",
    "    def set_a(self,a):\n",
    "        self.__a=a\n",
    "    def get_a(self):\n",
    "        return self.__a\n",
    "    def set_b(self,b):\n",
    "        self.__b=b\n",
    "    def get_b(self):\n",
    "        return self.___b\n",
    "    def set_c(self,c):\n",
    "        self.__c=c\n",
    "    def get_c(self):\n",
    "        return self.__c\n",
    "    def set_d(self,d):\n",
    "        self.__d=d\n",
    "    def get_d(self):\n",
    "        return self.__d\n",
    "    def set_e(self,e):\n",
    "        self.__e=e\n",
    "    def get_e(self):\n",
    "        return self.__e\n",
    "    def set_f(self,f):\n",
    "        self.__f=f\n",
    "    def get_f(self):\n",
    "        return self.__f\n",
    "    def isSolvable(self):\n",
    "        if (self.__a*self.__d)-(self.__c*self.__b)!=0:\n",
    "            return True\n",
    "        else:\n",
    "            return print('此方程无解')\n",
    "    def getX(self):\n",
    "        s=(self.__a*self.__d)-(self.__b*self.__c)\n",
    "        x=(self.__e*self.__d)-(self.__b*self.__f)/s\n",
    "        print('X的值为：%.2f'% x)\n",
    "    def getY(self):\n",
    "        s=(self.__a*self.__d)-(self.__b*self.__c)\n",
    "        y=(self.__a*self.__f)-(self.__e*self.__c)/s\n",
    "        print('Y的值为：%.2f'% y)\n",
    "if __name__==\"__main__\":\n",
    "    a=int(input('a的值是：'))\n",
    "    b=int(input('b的值是：'))\n",
    "    c=int(input('c的值是：'))\n",
    "    d=int(input('d的值是：'))\n",
    "    e=int(input('e的值是：'))\n",
    "    f=int(input('f的值是：'))\n",
    "    l=LinearEquation(a,b,c,d,e,f)\n",
    "    l.isSolvable()\n",
    "    l.getX()\n",
    "    l.getY()"
   ]
  },
  {
   "cell_type": "code",
   "execution_count": 18,
   "metadata": {},
   "outputs": [
    {
     "name": "stdout",
     "output_type": "stream",
     "text": [
      "用户注册 用户登录\n",
      ">>用户注册\n",
      "用户注册\n",
      "请输入邮箱123456\n",
      "你输入的邮箱是：123456\n",
      "请输入你的密码123456\n",
      "请输入确认密码123456\n",
      "密码确认成功\n",
      ">>12\n",
      "12\n",
      "手机号码\n",
      ">>123\n",
      "123\n",
      "验证成功\n",
      "验证成功\n",
      "验证成功\n",
      "验证成功\n",
      "请输入验证码\n",
      ">>123\n",
      "123\n",
      "是否注册完毕 是 否\n",
      ">>是\n",
      "是\n",
      "请登录\n"
     ]
    }
   ],
   "source": [
    "# 写一个邮箱\n",
    "class yemian(object):\n",
    "    def __init__(self,a):\n",
    "        self.a=a\n",
    "    def xuanze(self):\n",
    "        if self.a==1:\n",
    "            print(\"新浪邮箱\")\n",
    "        else:\n",
    "            print(\"其他邮箱\")\n",
    "    def shuru(self):\n",
    "        print(\"用户注册\",\"用户登录\")\n",
    "        res=input(\">>\")\n",
    "        print(res)\n",
    "    def select(self):\n",
    "        email = input(\"请输入邮箱\")\n",
    "        print(\"你输入的邮箱是：%s\"%email)\n",
    "    def select1(self):\n",
    "        for i in range(4):\n",
    "            password_1 = input(\"请输入你的密码\")\n",
    "            password_2 = input(\"请输入确认密码\")\n",
    "            if password_1 == password_2:\n",
    "                print(\"密码确认成功\")\n",
    "                break\n",
    "            else:\n",
    "                print(\"两次密码不一致\")\n",
    "        res=input(\">>\")\n",
    "        print(res)\n",
    "    def select2(self):\n",
    "        print(\"手机号码\")\n",
    "        res=input(\">>\")\n",
    "        print(res)\n",
    "    def select3(self):\n",
    "        import random\n",
    "        for i in range(3):\n",
    "            random_num = random.randint(1000,9999)\n",
    "        for i in range(1,5):\n",
    "            if i<5:\n",
    "                print(\"验证成功\")\n",
    "            else:\n",
    "                print(\"exit 0 退出验证\")\n",
    "    def select4(self):\n",
    "        print(\"请输入验证码\")\n",
    "        res=input(\">>\")\n",
    "        print(res)\n",
    "    def zhucecheng(self):\n",
    "        print(\"是否注册完毕\",\"是\",\"否\")\n",
    "        self.a=input(\">>\")\n",
    "        print(self.a)\n",
    "        if self.a==\"是\":\n",
    "            print(\"请登录\")\n",
    "        elif self.a==\"否\":\n",
    "            print(\"继续注册\")\n",
    "ye=yemian(1)\n",
    "ye.shuru()\n",
    "ye.select()\n",
    "ye.select1()\n",
    "ye.select2()\n",
    "ye.select3()\n",
    "ye.select4()\n",
    "ye.zhucecheng()"
   ]
  },
  {
   "cell_type": "code",
   "execution_count": 3,
   "metadata": {},
   "outputs": [
    {
     "name": "stdout",
     "output_type": "stream",
     "text": [
      "█\r"
     ]
    }
   ],
   "source": [
    "from wxpy import *"
   ]
  },
  {
   "cell_type": "code",
   "execution_count": 4,
   "metadata": {},
   "outputs": [
    {
     "name": "stderr",
     "output_type": "stream",
     "text": [
      "Getting uuid of QR code.\n",
      "Downloading QR code.\n",
      "Please scan the QR code to log in.\n",
      "Please press confirm on your phone.\n",
      "Loading the contact, this may take a little while.\n",
      "Login successfully as 🐬\n"
     ]
    }
   ],
   "source": [
    "bot = Bot()"
   ]
  },
  {
   "cell_type": "code",
   "execution_count": 5,
   "metadata": {},
   "outputs": [
    {
     "name": "stdout",
     "output_type": "stream",
     "text": [
      "[<Friend: 🐬>, <Friend: 胖虎儿<span class=\"emoji emoji1f466\"></span>🏻>, <Friend: 李颖超>, <Friend: 教练>, <Friend: 曈>, <Friend: 吊椅派送总监¥¥>, <Friend: 文燕>, <Friend: 刘文燕>, <Friend: 汪娜>, <Friend: 焦晨旭>, <Friend: 圣才课程顾问125>, <Friend: 石慢宇>, <Friend: show飒>, <Friend: 孙育新>, <Friend: 英英酱骨馆13474904702>, <Friend: Any🌞Thing>, <Friend: 透蜜8号VIP （在线时间9.30-5.30>, <Friend: 二小>, <Friend: 生活林蛋糕>, <Friend: 优酷会员>, <Friend: 文涛>, <Friend: 茶语饭厚13327006724>, <Friend: 小胖二姐>, <Friend: 返现看头像 勿催 放心>, <Friend: 小宇姐>, <Friend: 牟玲歌>, <Friend: 大哥>, <Friend: 张文颖>, <Friend:  简单>, <Friend: 奇异果>, <Friend: 臭傻子🙄>, <Friend: 吴东>, <Friend: 妞麻>, <Friend: 沪江网校考研助教-蛋挞>, <Friend: 似水 >, <Friend: 曹阳>, <Friend: 肉肉酱🍃（人多请备注来意）>, <Friend: 必胜公考小助手>, <Friend: 大娘>, <Friend: 学委>, <Friend: 二姨>, <Friend: 风回>, <Friend: 英语老师>, <Friend: 飞哥>, <Friend: 成名>, <Friend: 春旭>, <Friend: 小可爱的三姨<span class=\"emoji emoji1f338\"></span>>, <Friend: A>, <Friend: 田老师>, <Friend: D>, <Friend: 阿磊>, <Friend: 韩味坊热面馆15648377276>, <Friend: 东湖五花肉>, <Friend: ʚ加貝杂货铺ɞ>, <Friend: 娟姐>, <Friend: 六姨>, <Friend: 李爽>, <Friend: 花卷xie潮鞋🌸>, <Friend: 珍惜缘分>, <Friend: 企业课老师>, <Friend: 🍟鞋子的故事>, <Friend: 胡旺>, <Friend: A0淘宝高佣金优惠券>, <Friend: 赵志伟>, <Friend: 繁星春水>, <Friend: 程一>, <Friend: A~周轩扬>, <Friend: 吧啦啦小魔仙😂>, <Friend: A宝贝来呀美甲饰品纹绣>, <Friend: Aっ🎵影儿、>, <Friend: A🌸小花>, <Friend: 电信>, <Friend: 刘楠>, <Friend: 姐夫>, <Friend: Ambition>, <Friend: A012淘券达人(淘宝天猫返利)>, <Friend: 婷婷姐>, <Friend: 借风拥你>, <Friend: 代行强>, <Friend: C2长期收天猫评价>, <Friend: 电影城>, <Friend: 王宏宇>, <Friend: 赵佳佳>, <Friend: 米粒>, <Friend: 大姨>, <Friend: 张龙宇>, <Friend: 吴红艳老师>, <Friend: 李圆媛>, <Friend: 邦尼老师C>, <Friend: 🍰 小屋千层🎂>, <Friend: 郭志颖>, <Friend: Zhangjt>, <Friend: 史娇娇>, <Friend: 梁云鹏>, <Friend: 宝胖子>, <Friend: A小馋猫拌饭13948701328>, <Friend: 王继平>, <Friend: 😁 😁>, <Friend: 陈健老师>, <Friend: A福莉通讯>, <Friend: 秦聪昵>, <Friend: 周黑鸭>, <Friend: 风先生>, <Friend: 企业课老师>, <Friend: 青黛>, <Friend: 可有可无ζ>, <Friend: 田成>, <Friend: 张娇娇>, <Friend: 陆吾吾💄>, <Friend: 球>, <Friend: 刘静>, <Friend: F1  返机器人💗>, <Friend: G5 天猫京东多多机器人💗>, <Friend: 黑马导师-敏儿>, <Friend: 尚晓文>, <Friend: 徐婷婷>, <Friend: 金牌导师、丽莉>, <Friend: 一刻达快递代取>, <Friend: 张娟老师>, <Friend: 创新教育、创新代理记账>, <Friend: 睿琳<span class=\"emoji emoji1f447\"></span>>, <Friend: 奋斗中>, <Friend: 老舅妈>, <Friend: 邢显昭>, <Friend: 罗广锋>, <Friend: 韩佳美>, <Friend: 高阳>, <Friend: 小可爱的五姨<span class=\"emoji emoji1f338\"></span>>, <Friend: 冯小明>, <Friend: 吴老师<span class=\"emoji emoji1f437\"></span>>, <Friend: 💦          蒲浩！>, <Friend: 纪心如>, <Friend: 🙈  DZW。>, <Friend: 袁婷>, <Friend: 程亚杰>, <Friend: 企业课老师>, <Friend: 吴静>, <Friend: 林东卓诗尼>, <Friend: 郭颖<span class=\"emoji emoji1f60a\"></span>>, <Friend: 春宇>, <Friend: 客服上班时间:9:00到18:00>, <Friend: 【必胜公考】小明老师18222907060>, <Friend: 董晓翠>, <Friend: 姐>, <Friend: 外国语学院赵亚楠>, <Friend: S&amp;T>, <Friend: 艾尚·美甲彩妆>, <Friend: 肉多多炸鸡>, <Friend: 解忧杂货铺>, <Friend: 二姑>, <Friend: 超级无敌能吃🌚>, <Friend: 嫂子>, <Friend: 赤峰小桔灯>, <Friend: 李淑琪>, <Friend: 田海娟🌴>, <Friend: 王月瑶>, <Friend: PP长期收淘宝天猫评价>, <Friend: A仰阿莎微信售后>, <Friend: 李璐>, <Friend: 蓉蓉⁷🎀>, <Friend: 李文慧>, <Friend: 刘佳妮>, <Friend: 兰凌风>, <Friend: 马斌>, <Friend: 孙少伟>, <Friend: 凌薇💯发型师>, <Friend: 哎！的话>, <Friend: 于天奇>, <Friend: 郭慧敏>, <Friend: L🏋🏾>, <Friend: 沈华>, <Friend: 大哥>, <Friend: 孙亚楠>, <Friend: 赵昀>, <Friend: 心恋>, <Friend: 陈颖>, <Friend: 李东升>, <Friend: 金新华>, <Friend: 张丽芳老师>, <Friend: Sarah>, <Friend: 大美妞的<span class=\"emoji emoji1f468\"></span>🏻>, <Friend: 小可爱的妈妈<span class=\"emoji emoji1f338\"></span>>, <Friend:  珂>, <Friend: 你咋这么欠😓>, <Friend: 小可爱的姐姐<span class=\"emoji emoji1f338\"></span>>, <Friend: 吕雪渊>, <Friend: 可可爱爱佟志鹏🐷>, <Friend: 刘志斌>, <Friend: 老舅>, <Friend: 张丹妮>, <Friend: 二傻子>, <Friend: Luck>, <Friend: 佳琪>, <Friend: 王海连>, <Friend: 高阳女>, <Friend: 王润泽>, <Friend: 花儿红💜>, <Friend: 数教文文>, <Friend: 朱慧>, <Friend: 有意思>, <Friend: 庞>, <Friend: weed🍃>, <Friend: 王艳春>, <Friend: 会计老师>, <Friend: 张雅倩>, <Friend: 简影>, <Friend: W.>, <Friend: a圣才639美美老师🙈>, <Friend: 小可爱的妹妹<span class=\"emoji emoji1f338\"></span>>, <Friend: 远>, <Friend: 九三💭>, <Friend: 欢欢大姐>, <Friend: 狗胖子<span class=\"emoji emoji1f44b\"></span>>, <Friend: 曹丽媛>, <Friend: 单姨>, <Friend: 淡如清风>, <Friend: 刘鑫>, <Friend: 郭雯>, <Friend: 小明今天学习了嘛<span class=\"emoji emoji1f447\"></span>>, <Friend: 邹存娜>, <Friend: 丽丽大姐>, <Friend: 白雪>, <Friend: 门劲松>, <Friend: 巧夫人云南过桥米线店😊>, <Friend: 汪洋>]\n"
     ]
    }
   ],
   "source": [
    "my_friend = bot.friends()\n",
    "print(my_friend)"
   ]
  },
  {
   "cell_type": "code",
   "execution_count": null,
   "metadata": {},
   "outputs": [
    {
     "name": "stdout",
     "output_type": "stream",
     "text": [
      "消息已发送\n"
     ]
    }
   ],
   "source": [
    "class wx(object):\n",
    "    def haoyou(self):\n",
    "        my_friend = bot.friends().search('胖虎儿')[0]  #找到好友\n",
    "        my_friend.send('傻子')\n",
    "        print('消息已发送')\n",
    "        url = 'C:/Users/dell/Pictures/1.jpg'\n",
    "        self.url=url  \n",
    "        my_friend.send_image(self.url)\n",
    "        print('已发送')\n",
    "wxfriend = wx()\n",
    "wxfriend.haoyou()       "
   ]
  },
  {
   "cell_type": "code",
   "execution_count": 20,
   "metadata": {},
   "outputs": [
    {
     "name": "stdout",
     "output_type": "stream",
     "text": [
      "请输入大于6位的包含大小写字母和数字的密码：12345\n",
      "输入的密码小于6位\n",
      "请输入大于6位的包含大小写字母和数字的密码：12345r\n",
      "未包含大写字母\n",
      "请输入大于6位的包含大小写字母和数字的密码：12345A\n",
      "未包含小写字母\n",
      "请输入大于6位的包含大小写字母和数字的密码：asdfgQW\n",
      "未包含数字\n",
      "请输入大于6位的包含大小写字母和数字的密码：123456Az\n",
      "输入成功\n"
     ]
    }
   ],
   "source": [
    "\"\"\"\"\n",
    "检验密码是否合法：\n",
    "1.必须含有大写\n",
    "2.必须含有小写\n",
    "3.必须含有数字\n",
    "40还有一个装饰器统计密码输入错误的次数\n",
    "\"\"\"\n",
    "import re\n",
    "lowerRegex = re.compile('[a-z]')\n",
    "upperRegex = re.compile('[A-Z]')\n",
    "digitRegex = re.compile('[0-9]')\n",
    "wrongRegex = re.compile('[^a-zA-Z0-9]')\n",
    "\n",
    "while True:\n",
    "    password = input('请输入大于6位的包含大小写字母和数字的密码：')\n",
    "    if len(password) < 6:\n",
    "        print('输入的密码小于6位')\n",
    "    elif wrongRegex.search(password) != None:\n",
    "        print('包含无效字符')\n",
    "    else:\n",
    "        if lowerRegex.search(password) == None:\n",
    "            print('未包含小写字母')\n",
    "        elif upperRegex.search(password) == None:\n",
    "            print('未包含大写字母')\n",
    "        elif digitRegex.search(password) == None:\n",
    "            print('未包含数字')\n",
    "        else:\n",
    "            print('输入成功')\n",
    "            break"
   ]
  },
  {
   "cell_type": "code",
   "execution_count": null,
   "metadata": {},
   "outputs": [],
   "source": []
  }
 ],
 "metadata": {
  "kernelspec": {
   "display_name": "Python 3",
   "language": "python",
   "name": "python3"
  },
  "language_info": {
   "codemirror_mode": {
    "name": "ipython",
    "version": 3
   },
   "file_extension": ".py",
   "mimetype": "text/x-python",
   "name": "python",
   "nbconvert_exporter": "python",
   "pygments_lexer": "ipython3",
   "version": "3.6.4"
  }
 },
 "nbformat": 4,
 "nbformat_minor": 2
}
